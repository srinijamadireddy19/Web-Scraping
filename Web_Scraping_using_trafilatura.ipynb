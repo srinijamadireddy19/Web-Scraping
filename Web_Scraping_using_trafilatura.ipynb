{
  "nbformat": 4,
  "nbformat_minor": 0,
  "metadata": {
    "colab": {
      "provenance": [],
      "authorship_tag": "ABX9TyPjVDU92/iU0Sk8MsAxv8Ye",
      "include_colab_link": true
    },
    "kernelspec": {
      "name": "python3",
      "display_name": "Python 3"
    },
    "language_info": {
      "name": "python"
    }
  },
  "cells": [
    {
      "cell_type": "markdown",
      "metadata": {
        "id": "view-in-github",
        "colab_type": "text"
      },
      "source": [
        "<a href=\"https://colab.research.google.com/github/srinijamadireddy19/Web-Scraping/blob/main/Web_Scraping_using_trafilatura.ipynb\" target=\"_parent\"><img src=\"https://colab.research.google.com/assets/colab-badge.svg\" alt=\"Open In Colab\"/></a>"
      ]
    },
    {
      "cell_type": "markdown",
      "source": [
        "**Step 1 Import the Required Libraries**\n",
        "\n",
        "*Why these libraries?*\n",
        "\n",
        "* trafilatura → Extracts main readable text from a web page (filters out ads, menus, scripts, etc.).\n",
        "\n",
        "* reportlab → A powerful library for creating PDF documents from text and styled paragraphs.\n",
        "\n",
        "* os → Used to extract the main part of the URL to generate dynamic filenames.\n",
        "\n",
        "* re (Regular Expressions) → Used for safely splitting the text into paragraphs."
      ],
      "metadata": {
        "id": "LGx5Pxncgp-m"
      }
    },
    {
      "cell_type": "code",
      "execution_count": 17,
      "metadata": {
        "id": "Mqg6xmp8dsd0"
      },
      "outputs": [],
      "source": [
        "#Run this cell only once\n",
        "#!pip install trafilatura"
      ]
    },
    {
      "cell_type": "code",
      "source": [
        "#Run this cell only once\n",
        "#!pip install reportlab"
      ],
      "metadata": {
        "id": "cOnfTkhud3qM"
      },
      "execution_count": 18,
      "outputs": []
    },
    {
      "cell_type": "code",
      "source": [
        "import os\n",
        "import trafilatura\n",
        "from reportlab.platypus import SimpleDocTemplate, Paragraph, Spacer\n",
        "from reportlab.lib.styles import getSampleStyleSheet, ParagraphStyle\n",
        "from reportlab.lib.pagesizes import letter\n",
        "from reportlab.lib.units import inch"
      ],
      "metadata": {
        "id": "lukLf6F-d3m6"
      },
      "execution_count": 5,
      "outputs": []
    },
    {
      "cell_type": "markdown",
      "source": [
        "**Step 2: Define the Webpage URL**\n",
        "\n",
        "This is the webpage we want to extract text from.\n",
        "\n",
        "This will be replaced by any other URL dynamically."
      ],
      "metadata": {
        "id": "cMP3YrsqhKqs"
      }
    },
    {
      "cell_type": "code",
      "source": [
        "url = input(\"Enter the URL: \")"
      ],
      "metadata": {
        "colab": {
          "base_uri": "https://localhost:8080/"
        },
        "id": "c3NeWfond3j9",
        "outputId": "a5697d46-2801-40b4-ee29-fbeaceaa1584"
      },
      "execution_count": 6,
      "outputs": [
        {
          "name": "stdout",
          "output_type": "stream",
          "text": [
            "Enter the URL: https://www.youtube.com/watch?v=HNCypVfeTdw\n"
          ]
        }
      ]
    },
    {
      "cell_type": "markdown",
      "source": [
        "**Step 3: Extract the “Main Part” of the URL Dynamically**\n",
        "\n",
        "*What this does:*\n",
        "\n",
        "os.path.basename(url) gives the last part of the URL after the last /."
      ],
      "metadata": {
        "id": "GwRIj5IDhTx8"
      }
    },
    {
      "cell_type": "code",
      "source": [
        "base_name = os.path.basename(url)\n",
        "base_name"
      ],
      "metadata": {
        "colab": {
          "base_uri": "https://localhost:8080/",
          "height": 35
        },
        "id": "jZwMrRNtfTiR",
        "outputId": "60685d53-74a7-40d0-b16b-dd659facc10e"
      },
      "execution_count": 7,
      "outputs": [
        {
          "output_type": "execute_result",
          "data": {
            "text/plain": [
              "'watch?v=HNCypVfeTdw'"
            ],
            "application/vnd.google.colaboratory.intrinsic+json": {
              "type": "string"
            }
          },
          "metadata": {},
          "execution_count": 7
        }
      ]
    },
    {
      "cell_type": "code",
      "source": [],
      "metadata": {
        "id": "Z8DO3C_FhhtN"
      },
      "execution_count": null,
      "outputs": []
    },
    {
      "cell_type": "markdown",
      "source": [
        "**Step 5: Download the Webpage Content**\n",
        "\n",
        "*What’s happening:*\n",
        "\n",
        "trafilatura.fetch_url() downloads the raw HTML of the page.\n",
        "\n",
        "We check if it succeeded. If not, the script exits gracefully."
      ],
      "metadata": {
        "id": "h84q1_44hio2"
      }
    },
    {
      "cell_type": "code",
      "source": [
        "print(\"Downloading webpage content...\")\n",
        "downloaded = trafilatura.fetch_url(url)\n",
        "if not downloaded:\n",
        "    print(\"Could not download the webpage. Exiting.\")\n",
        "    exit()"
      ],
      "metadata": {
        "colab": {
          "base_uri": "https://localhost:8080/"
        },
        "id": "5oS1FO1_d3hW",
        "outputId": "1dc432be-4cff-476c-b00e-010c24faddec"
      },
      "execution_count": 8,
      "outputs": [
        {
          "output_type": "stream",
          "name": "stdout",
          "text": [
            "Downloading webpage content...\n"
          ]
        }
      ]
    },
    {
      "cell_type": "markdown",
      "source": [
        "**Step 6: Extract Clean Text from the Downloaded HTML**\n",
        "\n",
        "*Explanation:*\n",
        "\n",
        "trafilatura.extract() automatically identifies and extracts main textual content.\n",
        "\n",
        "We specify:\n",
        "\n",
        "* output_format=\"txt\" → We want plain text (not HTML or XML).\n",
        "\n",
        "* include_comments=False → Exclude comment sections.\n",
        "\n",
        "* include_tables=True → Include tables where possible.\n",
        "\n",
        "This gives us a clean text version of the article — no ads, no menus, just main content."
      ],
      "metadata": {
        "id": "ew-K3q5LhtJZ"
      }
    },
    {
      "cell_type": "code",
      "source": [
        "print(\"Extracting text and structure...\")\n",
        "\n",
        "text = trafilatura.extract(\n",
        "    downloaded,\n",
        "    output_format=\"txt\",\n",
        "    include_comments=False,\n",
        "    include_tables=True\n",
        ")\n",
        "if not text:\n",
        "    print(\"No text was extracted. Exiting.\")\n",
        "    exit()\n"
      ],
      "metadata": {
        "colab": {
          "base_uri": "https://localhost:8080/"
        },
        "id": "VcoGgNgod3eZ",
        "outputId": "6bfbb652-d353-425f-9fbd-4e2878347e04"
      },
      "execution_count": 9,
      "outputs": [
        {
          "output_type": "stream",
          "name": "stdout",
          "text": [
            "Extracting text and structure...\n"
          ]
        }
      ]
    },
    {
      "cell_type": "markdown",
      "source": [
        "**Step 7: Split the Text into Paragraphs**\n",
        "\n",
        "*Why this matters:*\n",
        "\n",
        "* Web text often contains multiple line breaks or random spacing.\n",
        "\n",
        "* This regex safely splits the text into paragraphs using any sequence of blank lines.\n",
        "\n",
        "* We also strip leading/trailing spaces and ignore empty lines.\n",
        "\n",
        "Result → A clean list of paragraph strings."
      ],
      "metadata": {
        "id": "Y3LV8NZEh4O8"
      }
    },
    {
      "cell_type": "code",
      "source": [
        "paragraph_list = []\n",
        "# Ensure no empty strings from multiple newlines\n",
        "for p in text.split('\\n\\n'):\n",
        "    stripped_p = p.strip()\n",
        "    if stripped_p:\n",
        "        paragraph_list.append(stripped_p)"
      ],
      "metadata": {
        "id": "WMc34mCZd3bx"
      },
      "execution_count": 10,
      "outputs": []
    },
    {
      "cell_type": "markdown",
      "source": [
        "**Step 8: Set Up the PDF Document and Styles**\n",
        "\n",
        "*Explanation:*\n",
        "\n",
        "* SimpleDocTemplate sets up page size and margins.\n",
        "\n",
        "* getSampleStyleSheet() loads default ReportLab text styles.\n",
        "\n",
        "* We define a custom paragraph style with extra spacing before/after paragraphs for readability."
      ],
      "metadata": {
        "id": "to6qcPSIiQOk"
      }
    },
    {
      "cell_type": "code",
      "source": [
        "pdf_filename = f\"{base_name}.pdf\"\n",
        "doc = SimpleDocTemplate(pdf_filename, pagesize=letter, rightMargin=inch, leftMargin=inch, topMargin=inch, bottomMargin=inch)\n",
        "\n",
        "styles = getSampleStyleSheet()"
      ],
      "metadata": {
        "id": "jiriAQqwfkWF"
      },
      "execution_count": 11,
      "outputs": []
    },
    {
      "cell_type": "code",
      "source": [
        "paragraph_style = ParagraphStyle(\n",
        "    'SpacedParagraph',\n",
        "    parent=styles['Normal'],\n",
        "    spaceBefore=12,  # Space before the paragraph in points\n",
        "    spaceAfter=6,   # Space after the paragraph in points\n",
        ")"
      ],
      "metadata": {
        "id": "aVqo1WHEfkSm"
      },
      "execution_count": 12,
      "outputs": []
    },
    {
      "cell_type": "markdown",
      "source": [
        "**Step 9: Build the PDF Content (“Story”)**\n",
        "\n",
        "* We start with a title at the top (h1 style).\n",
        "\n",
        "* Add a small space after the title.\n",
        "\n",
        "* Then we loop through all paragraphs:"
      ],
      "metadata": {
        "id": "-1G_QmM6ibNw"
      }
    },
    {
      "cell_type": "code",
      "source": [
        "story = []"
      ],
      "metadata": {
        "id": "wCQ5zChEfkQE"
      },
      "execution_count": 13,
      "outputs": []
    },
    {
      "cell_type": "code",
      "source": [
        "title_text = base_name.replace('_', ' ')\n",
        "story.append(Paragraph(title_text, styles['h1']))\n",
        "story.append(Spacer(1, 12))"
      ],
      "metadata": {
        "id": "PU_TYEMUfdau"
      },
      "execution_count": 14,
      "outputs": []
    },
    {
      "cell_type": "code",
      "source": [
        "for para_text in paragraph_list:\n",
        "    # `ReportLab`'s `Paragraph` needs `<br />` for internal line breaks,\n",
        "    # so we replace single newlines with it.\n",
        "    formatted_para_text = para_text.replace('\\n', '<br /> <br />')\n",
        "    story.append(Paragraph(formatted_para_text, paragraph_style))\n"
      ],
      "metadata": {
        "id": "NidzJPSYftXs"
      },
      "execution_count": 15,
      "outputs": []
    },
    {
      "cell_type": "markdown",
      "source": [
        "**Step 10: Generate and Save the PDF**\n",
        "\n",
        "* This compiles the list of paragraphs (story) into a finished, styled PDF.\n",
        "\n",
        "* The final file name is automatically based on the URL."
      ],
      "metadata": {
        "id": "Gx6G3Gf6ik3g"
      }
    },
    {
      "cell_type": "code",
      "source": [
        "print(f\"Building PDF: {pdf_filename}...\")\n",
        "doc.build(story)\n",
        "print(f\"PDF created successfully as '{pdf_filename}'\")"
      ],
      "metadata": {
        "colab": {
          "base_uri": "https://localhost:8080/"
        },
        "id": "n-pBxXp2ftUR",
        "outputId": "f199650b-a4e0-4606-f3ff-a95924ddf564"
      },
      "execution_count": 16,
      "outputs": [
        {
          "output_type": "stream",
          "name": "stdout",
          "text": [
            "Building PDF: watch?v=HNCypVfeTdw.pdf...\n",
            "PDF created successfully as 'watch?v=HNCypVfeTdw.pdf'\n"
          ]
        }
      ]
    }
  ]
}